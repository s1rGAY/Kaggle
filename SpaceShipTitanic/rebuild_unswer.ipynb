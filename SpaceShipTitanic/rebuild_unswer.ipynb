{
 "cells": [
  {
   "cell_type": "code",
   "execution_count": 2,
   "id": "ba0544b6-7625-4e06-88ff-098e3c325edf",
   "metadata": {},
   "outputs": [],
   "source": [
    "import pandas as pd"
   ]
  },
  {
   "cell_type": "code",
   "execution_count": 3,
   "id": "8a2cab8b-d432-4ed6-86da-1e5b09b77de9",
   "metadata": {},
   "outputs": [],
   "source": [
    "gnb = pd.read_csv('/home/siarhei/Programming/ML/Data/SpaceShipTitanic/gnb_simple_submission')\n",
    "knn = pd.read_csv('/home/siarhei/Programming/ML/Data/SpaceShipTitanic/knn_simple_submission')\n",
    "lr = pd.read_csv('/home/siarhei/Programming/ML/Data/SpaceShipTitanic/lr_simple_submission')\n",
    "svc = pd.read_csv('/home/siarhei/Programming/ML/Data/SpaceShipTitanic/svc_simple_submission')"
   ]
  },
  {
   "cell_type": "code",
   "execution_count": 5,
   "id": "008fdd59-507a-4532-b420-90468dc73ba6",
   "metadata": {},
   "outputs": [],
   "source": [
    "gnb['Transported'] = gnb['Transported'].astype(bool)\n",
    "knn['Transported'] = knn['Transported'].astype(bool)\n",
    "lr['Transported'] = lr['Transported'].astype(bool)\n",
    "svc['Transported'] = svc['Transported'].astype(bool)"
   ]
  },
  {
   "cell_type": "code",
   "execution_count": 7,
   "id": "511a644f-cedc-425a-b0db-8d2d2adfcf1a",
   "metadata": {},
   "outputs": [],
   "source": [
    "submission_1 = pd.DataFrame(data=gnb)\n",
    "submission_1.to_csv('/home/siarhei/Programming/ML/Data/SpaceShipTitanic/gnb_simple_submission', index =False)"
   ]
  },
  {
   "cell_type": "code",
   "execution_count": 8,
   "id": "0cc2343a-05a6-420b-8fbb-f579dea9a876",
   "metadata": {},
   "outputs": [],
   "source": [
    "submission_1 = pd.DataFrame(data=knn)\n",
    "submission_1.to_csv('/home/siarhei/Programming/ML/Data/SpaceShipTitanic/knn_simple_submission', index =False)"
   ]
  },
  {
   "cell_type": "code",
   "execution_count": 9,
   "id": "9997c05b-125f-4182-94d9-db1023e54923",
   "metadata": {},
   "outputs": [],
   "source": [
    "submission_1 = pd.DataFrame(data=lr)\n",
    "submission_1.to_csv('/home/siarhei/Programming/ML/Data/SpaceShipTitanic/lr_simple_submission', index =False)"
   ]
  },
  {
   "cell_type": "code",
   "execution_count": 10,
   "id": "190b0084-a45d-4c41-af5e-7eca04684fa3",
   "metadata": {},
   "outputs": [],
   "source": [
    "submission_1 = pd.DataFrame(data=svc)\n",
    "submission_1.to_csv('/home/siarhei/Programming/ML/Data/SpaceShipTitanic/svc_simple_submission', index =False)"
   ]
  },
  {
   "cell_type": "code",
   "execution_count": null,
   "id": "a6896486-1819-4fdb-b8c4-ac3709595d76",
   "metadata": {},
   "outputs": [],
   "source": []
  },
  {
   "cell_type": "code",
   "execution_count": null,
   "id": "10b6f4d1-b936-4633-9e80-56a04b0dab05",
   "metadata": {},
   "outputs": [],
   "source": []
  },
  {
   "cell_type": "code",
   "execution_count": null,
   "id": "208f8e2b-5175-4fa5-a4eb-7e15d39cbfed",
   "metadata": {},
   "outputs": [],
   "source": []
  }
 ],
 "metadata": {
  "kernelspec": {
   "display_name": "Python 3 (ipykernel)",
   "language": "python",
   "name": "python3"
  },
  "language_info": {
   "codemirror_mode": {
    "name": "ipython",
    "version": 3
   },
   "file_extension": ".py",
   "mimetype": "text/x-python",
   "name": "python",
   "nbconvert_exporter": "python",
   "pygments_lexer": "ipython3",
   "version": "3.8.10"
  }
 },
 "nbformat": 4,
 "nbformat_minor": 5
}
