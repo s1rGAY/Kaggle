{
 "cells": [
  {
   "cell_type": "code",
   "execution_count": 71,
   "id": "03699993-ae55-46cd-9dcc-18eb23e7ac6e",
   "metadata": {},
   "outputs": [],
   "source": [
    "import math\n",
    "import numpy as np\n",
    "import matplotlib.pyplot as plt\n",
    "import tensorflow.compat.v1 as tf\n",
    "tf.disable_v2_behavior()"
   ]
  },
  {
   "cell_type": "code",
   "execution_count": 72,
   "id": "c23c7501-245c-478f-89f8-8b61615eb151",
   "metadata": {},
   "outputs": [],
   "source": [
    "tf.reset_default_graph()"
   ]
  },
  {
   "cell_type": "code",
   "execution_count": 73,
   "id": "2c71c85d-422e-4e38-b616-fc6a9b735690",
   "metadata": {},
   "outputs": [],
   "source": [
    "x0, x1 = 10, 20 \n",
    "test_data_size = 2000\n",
    "iterations = 10000\n",
    "learn_rate = 0.01\n",
    "hiddenSize = 10"
   ]
  },
  {
   "cell_type": "code",
   "execution_count": 74,
   "id": "33ef6e94-04de-429f-83b2-7e003c6e53f1",
   "metadata": {},
   "outputs": [],
   "source": [
    "def generate_test_values():\n",
    "    train_x = []\n",
    "    train_y = []\n",
    "\n",
    "    for _ in range(test_data_size):\n",
    "        x = x0+(x1-x0)*np.random.rand()\n",
    "        y = math.sin(x)\n",
    "        train_x.append([x])\n",
    "        train_y.append([y])\n",
    "\n",
    "    return np.array(train_x), np.array(train_y)"
   ]
  },
  {
   "cell_type": "code",
   "execution_count": null,
   "id": "98f1e1e7-7b62-4fbe-96c0-462397300fc9",
   "metadata": {},
   "outputs": [],
   "source": []
  },
  {
   "cell_type": "code",
   "execution_count": 75,
   "id": "460b4a79-236b-4521-9bbc-ec97c23ae1cf",
   "metadata": {},
   "outputs": [
    {
     "name": "stderr",
     "output_type": "stream",
     "text": [
      "/tmp/ipykernel_6410/338250720.py:3: UserWarning: `tf.layers.dense` is deprecated and will be removed in a future version. Please use `tf.keras.layers.Dense` instead.\n",
      "  nn = tf.layers.dense(x, hiddenSize,\n",
      "/tmp/ipykernel_6410/338250720.py:8: UserWarning: `tf.layers.dense` is deprecated and will be removed in a future version. Please use `tf.keras.layers.Dense` instead.\n",
      "  model = tf.layers.dense(nn, 1,\n"
     ]
    }
   ],
   "source": [
    "x = tf.placeholder(tf.float32, [None, 1], name=\"x\")\n",
    "y = tf.placeholder(tf.float32, [None, 1], name=\"y\")\n",
    "nn = tf.layers.dense(x, hiddenSize,\n",
    "                     activation=tf.nn.sigmoid,\n",
    "                     kernel_initializer=tf.initializers.ones(),\n",
    "                     bias_initializer=tf.initializers.random_uniform(minval=-x1, maxval=-x0),\n",
    "                     name=\"hidden\")\n",
    "model = tf.layers.dense(nn, 1,\n",
    "                        activation=None,\n",
    "                        name=\"output\")\n",
    "cost = tf.losses.mean_squared_error(y, model)\n",
    "train = tf.train.GradientDescentOptimizer(learn_rate).minimize(cost)\n",
    "init = tf.initializers.global_variables()"
   ]
  },
  {
   "cell_type": "code",
   "execution_count": 76,
   "id": "ae6abdaf-45fe-4864-866a-819bab0573c3",
   "metadata": {},
   "outputs": [
    {
     "name": "stdout",
     "output_type": "stream",
     "text": [
      "cost = 0.19664950668811798\n",
      "cost = 0.1318155974149704\n",
      "cost = 0.09018819034099579\n",
      "cost = 0.06435474753379822\n",
      "cost = 0.04735641926527023\n",
      "cost = 0.03576810285449028\n",
      "cost = 0.02769644558429718\n",
      "cost = 0.021522795781493187\n",
      "cost = 0.015860911458730698\n",
      "cost = 0.012179294601082802\n"
     ]
    },
    {
     "data": {
      "image/png": "[encoded data removed]",
      "text/plain": [
       "<Figure size 432x288 with 1 Axes>"
      ]
     },
     "metadata": {
      "needs_background": "light"
     },
     "output_type": "display_data"
    },
    {
     "name": "stdout",
     "output_type": "stream",
     "text": [
      "hidden:\n",
      "kernel= [[1.0251918  1.0327493  1.1848817  1.108832   0.6283084  1.3240097\n",
      "  1.1824279  0.77118653 0.67060095 0.6061889 ]]\n",
      "bias =  [-19.243618 -16.02032  -11.558356 -10.213897 -18.372562 -16.902632\n",
      " -18.439909 -19.963558 -19.911842 -18.684355]\n",
      "output:\n",
      "kernel= [[ 3.3923442 ]\n",
      " [-1.9835836 ]\n",
      " [-0.61981565]\n",
      " [-0.4778273 ]\n",
      " [-0.21423662]\n",
      " [ 3.3683856 ]\n",
      " [-1.9760865 ]\n",
      " [-0.03041484]\n",
      " [-0.4228105 ]\n",
      " [-0.4666893 ]]\n",
      "bias =  [-0.2376807]\n"
     ]
    }
   ],
   "source": [
    "with tf.Session() as session:\n",
    "    session.run(init)\n",
    "\n",
    "    for _ in range(iterations):\n",
    "\n",
    "        train_dataset, train_values = generate_test_values()\n",
    "\n",
    "        session.run(train, feed_dict={\n",
    "            x: train_dataset,\n",
    "            y: train_values\n",
    "        })\n",
    "\n",
    "        if(_ % 1000 == 999):\n",
    "            print(\"cost = {}\".format(session.run(cost, feed_dict={\n",
    "                x: train_dataset,\n",
    "                y: train_values\n",
    "            })))\n",
    "\n",
    "    train_dataset, train_values = generate_test_values()\n",
    "\n",
    "    train_values1 = session.run(model, feed_dict={\n",
    "        x: train_dataset,\n",
    "    })\n",
    "\n",
    "    plt.plot(train_dataset, train_values, \"bo\",\n",
    "             train_dataset, train_values1, \"ro\")\n",
    "    plt.show()\n",
    "\n",
    "    with tf.variable_scope(\"hidden\", reuse=True):\n",
    "        w = tf.get_variable(\"kernel\")\n",
    "        b = tf.get_variable(\"bias\")\n",
    "        print(\"hidden:\")\n",
    "        print(\"kernel=\", w.eval())\n",
    "        print(\"bias = \", b.eval())\n",
    "\n",
    "    with tf.variable_scope(\"output\", reuse=True):\n",
    "        w = tf.get_variable(\"kernel\")\n",
    "        b = tf.get_variable(\"bias\")\n",
    "        print(\"output:\")\n",
    "        print(\"kernel=\", w.eval())\n",
    "        print(\"bias = \", b.eval())"
   ]
  },
  {
   "cell_type": "code",
   "execution_count": null,
   "id": "b750719c-681a-4228-baf1-a5156a39a55b",
   "metadata": {},
   "outputs": [],
   "source": []
  },
  {
   "cell_type": "code",
   "execution_count": null,
   "id": "10791767-8cc9-4b29-9a3a-54d470b48851",
   "metadata": {},
   "outputs": [],
   "source": []
  },
  {
   "cell_type": "code",
   "execution_count": null,
   "id": "7e185e66-5a52-4835-bfe6-983e23b0b493",
   "metadata": {},
   "outputs": [],
   "source": []
  },
  {
   "cell_type": "code",
   "execution_count": null,
   "id": "7ab0c855-059e-4c37-bcf4-306e34fabf4b",
   "metadata": {},
   "outputs": [],
   "source": []
  },
  {
   "cell_type": "code",
   "execution_count": null,
   "id": "4fbcdf74-465f-408c-9fbd-8cfdf5165a60",
   "metadata": {},
   "outputs": [],
   "source": [
    "\n",
    "\n"
   ]
  },
  {
   "cell_type": "code",
   "execution_count": null,
   "id": "be95362c-009e-4d20-976e-0a4413c93ea7",
   "metadata": {},
   "outputs": [],
   "source": []
  },
  {
   "cell_type": "code",
   "execution_count": null,
   "id": "7cc737e5-e274-4c6e-a0df-011069e2642e",
   "metadata": {},
   "outputs": [],
   "source": []
  },
  {
   "cell_type": "code",
   "execution_count": null,
   "id": "df479fb4-838e-4857-8af9-06b96adf36c1",
   "metadata": {},
   "outputs": [],
   "source": []
  },
  {
   "cell_type": "code",
   "execution_count": null,
   "id": "f624a98d-b26e-45f3-bde8-4a1978ef000c",
   "metadata": {},
   "outputs": [],
   "source": []
  }
 ],
 "metadata": {
  "kernelspec": {
   "display_name": "Python 3 (ipykernel)",
   "language": "python",
   "name": "python3"
  },
  "language_info": {
   "codemirror_mode": {
    "name": "ipython",
    "version": 3
   },
   "file_extension": ".py",
   "mimetype": "text/x-python",
   "name": "python",
   "nbconvert_exporter": "python",
   "pygments_lexer": "ipython3",
   "version": "3.8.10"
  }
 },
 "nbformat": 4,
 "nbformat_minor": 5
}
